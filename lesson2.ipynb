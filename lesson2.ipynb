{
 "cells": [
  {
   "cell_type": "code",
   "execution_count": 15,
   "metadata": {},
   "outputs": [
    {
     "name": "stdout",
     "output_type": "stream",
     "text": [
      "what is your name ? \n",
      "Input your name below:Nurkamol\n",
      "your_name\n"
     ]
    }
   ],
   "source": [
    "your_name = input(\"what is your name ? \\nInput your name below:\")\n",
    "print(\"your_name\")"
   ]
  },
  {
   "cell_type": "code",
   "execution_count": 8,
   "metadata": {},
   "outputs": [
    {
     "name": "stdout",
     "output_type": "stream",
     "text": [
      "we have 2 types of grants .\n",
      "you could get full grant or  half grant.\n"
     ]
    }
   ],
   "source": [
    "types_of_grants = 2\n",
    "x = f\"we have {types_of_grants} types of grants .\"\n",
    "\n",
    "scenario_1 = \"full grant\"\n",
    "scenario_2 = \"half grant\"\n",
    "y = f\"you could get {scenario_1} or  {scenario_2}.\"\n",
    "\n",
    "print(x)\n",
    "print(y)"
   ]
  },
  {
   "cell_type": "code",
   "execution_count": 43,
   "metadata": {},
   "outputs": [
    {
     "name": "stdout",
     "output_type": "stream",
     "text": [
      "we have 2 types of lesson from IT .\n",
      "First python for beginners  \n",
      "Second Java for masters.\n",
      "NURKAMOL NURKAMOL NURKAMOL NURKAMOL NURKAMOL \n",
      "NURKAMOL\n",
      "     \n",
      "     USMONOV\n"
     ]
    }
   ],
   "source": [
    "print(\"we have 2 types of lesson from IT .\")\n",
    "Subject1 = 'python'\n",
    "Subject2='Java'\n",
    "print(\"First {} for beginners  \".format(Subject1))\n",
    "print(\"Second {} for masters.\".format(Subject2))\n",
    "print('NURKAMOL '*5)\n",
    "end1 = \"N\"\n",
    "end2 = \"U\"\n",
    "end3 = \"R\"\n",
    "end4 = \"K\"\n",
    "end5 = \"A\"\n",
    "end6 = \"M\"\n",
    "end7 = \"O\"\n",
    "end8 = \"L\"\n",
    "end9 = \"U\"\n",
    "end10 = \"S\"\n",
    "end11 = \"M\"\n",
    "end12 = \"O\"\n",
    "end13 = \"N\"\n",
    "end14=\"O\"\n",
    "end15=\"V\"\n",
    "\n",
    "print(end1 + end2 + end3 + end4 + end5 + end6 + end7 + end8,end=\"\\n     \"*2)  \n",
    "print(end9 + end10 + end11 + end12+end13+end14+end15)\n"
   ]
  },
  {
   "cell_type": "code",
   "execution_count": 50,
   "metadata": {},
   "outputs": [
    {
     "name": "stdout",
     "output_type": "stream",
     "text": [
      "1 2 3 4 5 \n",
      "one two three four five \n",
      "True False False True False \n",
      "{} {} {} {} {}  {} {} {} {} {}  {} {} {} {} {}  {} {} {} {} {}  {} {} {} {} {}  \n",
      "it does not matter how slowly you go so long as you do not stop. \n",
      "Confucius \n"
     ]
    }
   ],
   "source": [
    "formatter = \"{} {} {} {} {} \"\n",
    "\n",
    "print(formatter.format(1,2,3,4,5))\n",
    "print(formatter.format(\"one\", \"two\", \"three\", \"four\",\"five\"))\n",
    "print(formatter.format(formatter, formatter, formatter, formatter, formatter))\n",
    "print(formatter.format(\n",
    "\"it does not matter\",\n",
    "\"how slowly\",\n",
    "\"you go so long\",\n",
    "\"as you do not stop.\",\n",
    "\"\\nConfucius\"\n",
    "))"
   ]
  },
  {
   "cell_type": "code",
   "execution_count": 56,
   "metadata": {},
   "outputs": [
    {
     "name": "stdout",
     "output_type": "stream",
     "text": [
      "K_A_M_O_L\n",
      "1-2-3-4\n"
     ]
    }
   ],
   "source": [
    "user_id= \"{}_{}_{}_{}_{}\"\n",
    "password=\"{}-{}-{}-{}\"\n",
    "print(user_id.format(\"K\",\"A\",\"M\",\"O\",\"L\"))\n",
    "print(password.format(\"1\",\"2\",\"3\",\"4\"))"
   ]
  },
  {
   "cell_type": "code",
   "execution_count": 63,
   "metadata": {},
   "outputs": [
    {
     "name": "stdout",
     "output_type": "stream",
     "text": [
      "    Abror: what's up?\n",
      "    Sanjar: perfect!!!\n",
      "    Sanjar:what's about you?        \n",
      "    Abror: so bad :(\n"
     ]
    }
   ],
   "source": [
    "print(\"\"\"    Abror: what's up?\n",
    "    Sanjar: perfect!!!\n",
    "    Sanjar:what's about you?        \n",
    "    Abror: so bad :(\"\"\")"
   ]
  },
  {
   "cell_type": "code",
   "execution_count": 73,
   "metadata": {},
   "outputs": [
    {
     "name": "stdout",
     "output_type": "stream",
     "text": [
      "\tMy biography.\n",
      "I'm 18\n",
      " years old.\n",
      "I'm \\ a \\ student.\n",
      "\n",
      "I'll do a planning list:\n",
      "\t* Learning \n",
      "\t\tIT\n",
      "\t* Studying \n",
      "\t\t in the USA\n",
      "\t* Creating\n",
      "\t \tmy own business\n",
      "\n"
     ]
    }
   ],
   "source": [
    "about_me= \"\\tMy biography.\"\n",
    "age= \"I'm 18\\n years old.\"\n",
    "student= \"I'm \\\\ a \\\\ student.\"\n",
    "\n",
    "plans= \"\"\"\n",
    "I'll do a planning list:\n",
    "\\t* Learning \\n\\t\\tIT\n",
    "\\t* Studying \\n\\t\\t in the USA\n",
    "\\t* Creating\\n\\t \\tmy own business\n",
    "\"\"\"\n",
    "\n",
    "print(about_me)\n",
    "print(age)\n",
    "print(student)\n",
    "print(plans)"
   ]
  },
  {
   "cell_type": "code",
   "execution_count": 1,
   "metadata": {},
   "outputs": [
    {
     "name": "stdout",
     "output_type": "stream",
     "text": [
      "Hey! What's your name ? Nurkamol\n",
      "How tall are you in cm? 173\n",
      "How much do you weigh in kg?56\n",
      "So, you're Nurkamol , 173 cm tall and 56 kg heavy.\n"
     ]
    }
   ],
   "source": [
    "print(\"Hey! What's your name ?\", end=' ')\n",
    "name = input()\n",
    "print(\"How tall are you in cm?\", end=' ')\n",
    "height = input()\n",
    "print(\"How much do you weigh in kg?\", end='')\n",
    "weight = input()\n",
    "\n",
    "print(f\"So, you're {name} , {height} cm tall and {weight} kg heavy.\")"
   ]
  },
  {
   "cell_type": "code",
   "execution_count": 3,
   "metadata": {},
   "outputs": [
    {
     "name": "stdout",
     "output_type": "stream",
     "text": [
      "what's up ?perfect\n",
      "perfect\n"
     ]
    }
   ],
   "source": [
    "a=input(\"what's up ?\")\n",
    "print(a)"
   ]
  },
  {
   "cell_type": "code",
   "execution_count": 16,
   "metadata": {},
   "outputs": [
    {
     "name": "stdout",
     "output_type": "stream",
     "text": [
      "name: Nurkamol, surename: usmonov\n",
      "your name : Usmonov, your surename: Nurmuhammad\n",
      "game name: Need for speed\n",
      "that's all \n"
     ]
    }
   ],
   "source": [
    "def print_fullname(*args):\n",
    "    name, surename = args\n",
    "    print(f\"name: {name}, surename: {surename}\")\n",
    "\n",
    "def print_two_again(arg1, arg2):\n",
    "    print(f\"your name : {arg1}, your surename: {arg2}\")\n",
    "\n",
    "def game_name(game_name):\n",
    "    print(f\"game name: {game_name}\")\n",
    "\n",
    "def print_none():\n",
    "    print(\"that's all \")\n",
    "\n",
    "print_fullname(\"Nurkamol\",\"usmonov\")\n",
    "print_two_again(\"Usmonov\",\"Nurmuhammad\")\n",
    "game_name(\"Need for speed\")\n",
    "print_none()"
   ]
  },
  {
   "cell_type": "code",
   "execution_count": null,
   "metadata": {},
   "outputs": [],
   "source": []
  }
 ],
 "metadata": {
  "kernelspec": {
   "display_name": "Python 3",
   "language": "python",
   "name": "python3"
  },
  "language_info": {
   "codemirror_mode": {
    "name": "ipython",
    "version": 3
   },
   "file_extension": ".py",
   "mimetype": "text/x-python",
   "name": "python",
   "nbconvert_exporter": "python",
   "pygments_lexer": "ipython3",
   "version": "3.8.5"
  }
 },
 "nbformat": 4,
 "nbformat_minor": 4
}
